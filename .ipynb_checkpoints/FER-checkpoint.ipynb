{
 "cells": [
  {
   "cell_type": "code",
   "execution_count": 1,
   "id": "2408cec0",
   "metadata": {},
   "outputs": [],
   "source": [
    "import numpy as np\n",
    "import pandas as pd\n",
    "import matplotlib.pyplot as plt\n",
    "import seaborn as sns\n",
    "from sklearn.metrics import confusion_matrix,accuracy_score\n",
    "from keras.models import Sequential\n",
    "from keras.layers import Dense,Conv2D,MaxPooling2D,Activation,Flatten,ZeroPadding2D\n"
   ]
  },
  {
   "cell_type": "code",
   "execution_count": 2,
   "id": "6d6f0289",
   "metadata": {},
   "outputs": [
    {
     "data": {
      "text/plain": [
       "(35887, 3)"
      ]
     },
     "execution_count": 2,
     "metadata": {},
     "output_type": "execute_result"
    }
   ],
   "source": [
    "df = pd.read_csv('H:/Image_Dataset/FER CSV/fer2013.csv')\n",
    "df.shape"
   ]
  },
  {
   "cell_type": "code",
   "execution_count": 3,
   "id": "59727da1",
   "metadata": {},
   "outputs": [
    {
     "data": {
      "text/html": [
       "<div>\n",
       "<style scoped>\n",
       "    .dataframe tbody tr th:only-of-type {\n",
       "        vertical-align: middle;\n",
       "    }\n",
       "\n",
       "    .dataframe tbody tr th {\n",
       "        vertical-align: top;\n",
       "    }\n",
       "\n",
       "    .dataframe thead th {\n",
       "        text-align: right;\n",
       "    }\n",
       "</style>\n",
       "<table border=\"1\" class=\"dataframe\">\n",
       "  <thead>\n",
       "    <tr style=\"text-align: right;\">\n",
       "      <th></th>\n",
       "      <th>emotion</th>\n",
       "      <th>pixels</th>\n",
       "      <th>Usage</th>\n",
       "    </tr>\n",
       "  </thead>\n",
       "  <tbody>\n",
       "    <tr>\n",
       "      <th>0</th>\n",
       "      <td>0</td>\n",
       "      <td>70 80 82 72 58 58 60 63 54 58 60 48 89 115 121...</td>\n",
       "      <td>Training</td>\n",
       "    </tr>\n",
       "    <tr>\n",
       "      <th>1</th>\n",
       "      <td>0</td>\n",
       "      <td>151 150 147 155 148 133 111 140 170 174 182 15...</td>\n",
       "      <td>Training</td>\n",
       "    </tr>\n",
       "    <tr>\n",
       "      <th>2</th>\n",
       "      <td>2</td>\n",
       "      <td>231 212 156 164 174 138 161 173 182 200 106 38...</td>\n",
       "      <td>Training</td>\n",
       "    </tr>\n",
       "    <tr>\n",
       "      <th>3</th>\n",
       "      <td>4</td>\n",
       "      <td>24 32 36 30 32 23 19 20 30 41 21 22 32 34 21 1...</td>\n",
       "      <td>Training</td>\n",
       "    </tr>\n",
       "    <tr>\n",
       "      <th>4</th>\n",
       "      <td>6</td>\n",
       "      <td>4 0 0 0 0 0 0 0 0 0 0 0 3 15 23 28 48 50 58 84...</td>\n",
       "      <td>Training</td>\n",
       "    </tr>\n",
       "    <tr>\n",
       "      <th>5</th>\n",
       "      <td>2</td>\n",
       "      <td>55 55 55 55 55 54 60 68 54 85 151 163 170 179 ...</td>\n",
       "      <td>Training</td>\n",
       "    </tr>\n",
       "    <tr>\n",
       "      <th>6</th>\n",
       "      <td>4</td>\n",
       "      <td>20 17 19 21 25 38 42 42 46 54 56 62 63 66 82 1...</td>\n",
       "      <td>Training</td>\n",
       "    </tr>\n",
       "    <tr>\n",
       "      <th>7</th>\n",
       "      <td>3</td>\n",
       "      <td>77 78 79 79 78 75 60 55 47 48 58 73 77 79 57 5...</td>\n",
       "      <td>Training</td>\n",
       "    </tr>\n",
       "    <tr>\n",
       "      <th>8</th>\n",
       "      <td>3</td>\n",
       "      <td>85 84 90 121 101 102 133 153 153 169 177 189 1...</td>\n",
       "      <td>Training</td>\n",
       "    </tr>\n",
       "    <tr>\n",
       "      <th>9</th>\n",
       "      <td>2</td>\n",
       "      <td>255 254 255 254 254 179 122 107 95 124 149 150...</td>\n",
       "      <td>Training</td>\n",
       "    </tr>\n",
       "  </tbody>\n",
       "</table>\n",
       "</div>"
      ],
      "text/plain": [
       "   emotion                                             pixels     Usage\n",
       "0        0  70 80 82 72 58 58 60 63 54 58 60 48 89 115 121...  Training\n",
       "1        0  151 150 147 155 148 133 111 140 170 174 182 15...  Training\n",
       "2        2  231 212 156 164 174 138 161 173 182 200 106 38...  Training\n",
       "3        4  24 32 36 30 32 23 19 20 30 41 21 22 32 34 21 1...  Training\n",
       "4        6  4 0 0 0 0 0 0 0 0 0 0 0 3 15 23 28 48 50 58 84...  Training\n",
       "5        2  55 55 55 55 55 54 60 68 54 85 151 163 170 179 ...  Training\n",
       "6        4  20 17 19 21 25 38 42 42 46 54 56 62 63 66 82 1...  Training\n",
       "7        3  77 78 79 79 78 75 60 55 47 48 58 73 77 79 57 5...  Training\n",
       "8        3  85 84 90 121 101 102 133 153 153 169 177 189 1...  Training\n",
       "9        2  255 254 255 254 254 179 122 107 95 124 149 150...  Training"
      ]
     },
     "execution_count": 3,
     "metadata": {},
     "output_type": "execute_result"
    }
   ],
   "source": [
    "df.head(10)"
   ]
  },
  {
   "cell_type": "code",
   "execution_count": 4,
   "id": "fe7dfbb2",
   "metadata": {},
   "outputs": [],
   "source": [
    "df.pixels = df.pixels.apply(lambda x: np.array(x.split()).astype(np.float32).reshape(48,48))"
   ]
  },
  {
   "cell_type": "code",
   "execution_count": 5,
   "id": "a04ccfae",
   "metadata": {},
   "outputs": [],
   "source": [
    "df['emotion'].replace(0,'angry',inplace=True)\n",
    "df['emotion'].replace(1,'disgust',inplace=True)\n",
    "df['emotion'].replace(2,'fear',inplace=True)\n",
    "df['emotion'].replace(3,'happy',inplace=True)\n",
    "df['emotion'].replace(4,'neutral',inplace=True)\n",
    "df['emotion'].replace(5,'sad',inplace=True)\n",
    "df['emotion'].replace(6,'surprise',inplace=True)"
   ]
  },
  {
   "cell_type": "code",
   "execution_count": 6,
   "id": "525c095c",
   "metadata": {},
   "outputs": [
    {
     "data": {
      "text/plain": [
       "<matplotlib.image.AxesImage at 0x1e210838730>"
      ]
     },
     "execution_count": 6,
     "metadata": {},
     "output_type": "execute_result"
    },
    {
     "data": {
      "image/png": "[encoded data removed]",
      "text/plain": [
       "<Figure size 144x144 with 1 Axes>"
      ]
     },
     "metadata": {
      "needs_background": "light"
     },
     "output_type": "display_data"
    }
   ],
   "source": [
    "a = df.pixels[4]\n",
    "plt.figure(figsize=[2,2])\n",
    "plt.imshow(a,cmap='gray')"
   ]
  },
  {
   "cell_type": "code",
   "execution_count": 7,
   "id": "1744a596",
   "metadata": {},
   "outputs": [],
   "source": [
    "X_train = []\n",
    "y_train = []\n",
    "X_test = []\n",
    "y_test = []"
   ]
  },
  {
   "cell_type": "code",
   "execution_count": 8,
   "id": "9d40f669",
   "metadata": {},
   "outputs": [],
   "source": [
    "for index, row in df.iterrows():\n",
    "    k = row['pixels']\n",
    "    if row['Usage'] == 'Training':\n",
    "        X_train.append(np.array(k))\n",
    "        y_train.append(row['emotion'])\n",
    "    elif row['Usage'] == 'PublicTest':\n",
    "        X_test.append(np.array(k))\n",
    "        y_test.append(row['emotion'])"
   ]
  },
  {
   "cell_type": "code",
   "execution_count": 9,
   "id": "61719ebc",
   "metadata": {},
   "outputs": [],
   "source": [
    "X_train = np.array(X_train)\n",
    "y_train = np.array(y_train)\n",
    "X_test = np.array(X_test)\n",
    "y_test = np.array(y_test)"
   ]
  },
  {
   "cell_type": "code",
   "execution_count": 10,
   "id": "0fdfad0b",
   "metadata": {},
   "outputs": [],
   "source": [
    "y_test = pd.get_dummies(y_test)\n",
    "y_train = pd.get_dummies(y_train)"
   ]
  },
  {
   "cell_type": "code",
   "execution_count": 11,
   "id": "7bf0127c",
   "metadata": {},
   "outputs": [],
   "source": [
    "X_train = X_train.reshape(X_train.shape[0], 48, 48, 1)\n",
    "X_test = X_test.reshape(X_test.shape[0], 48, 48, 1)\n"
   ]
  },
  {
   "cell_type": "code",
   "execution_count": 12,
   "id": "e4ac9aa8",
   "metadata": {},
   "outputs": [
    {
     "data": {
      "text/plain": [
       "(28709, 48, 48, 1)"
      ]
     },
     "execution_count": 12,
     "metadata": {},
     "output_type": "execute_result"
    }
   ],
   "source": [
    "X_train.shape"
   ]
  },
  {
   "cell_type": "code",
   "execution_count": 14,
   "id": "439870e8",
   "metadata": {},
   "outputs": [],
   "source": [
    "model = Sequential()\n",
    "\n",
    "model.add(Conv2D(32,3,activation='relu',padding=\"same\"))\n",
    "model.add(MaxPooling2D(pool_size=(2,2),strides=(1,1),padding=\"same\"))\n",
    "\n",
    "\n",
    "model.add(Conv2D(64,3,strides=(2,2),padding=\"valid\",activation='relu'))\n",
    "model.add(MaxPooling2D(pool_size=(2,2),strides=(2,2),padding=\"valid\"))\n",
    "\n",
    "model.add(Conv2D(128,3,activation='relu',padding=\"same\"))\n",
    "model.add(MaxPooling2D(pool_size=(2,2),strides=(2,2),padding=\"same\"))\n",
    "\n",
    "\n",
    "model.add(Conv2D(128,3,activation='relu',padding=\"valid\"))\n",
    "model.add(MaxPooling2D(pool_size=(2,2),strides=(2,2),padding=\"valid\"))\n",
    "\n",
    "\n",
    "model.add(Flatten())\n",
    "\n",
    "model.add(Dense(250,activation='relu'))\n",
    "\n",
    "model.add(Dense(300,activation='relu'))\n",
    "\n",
    "model.add(Dense(350,activation='relu'))\n",
    "\n",
    "model.add(Dense(350,activation='relu'))\n",
    "\n",
    "model.add(Dense(7,activation='softmax'))"
   ]
  },
  {
   "cell_type": "code",
   "execution_count": 16,
   "id": "4207bc91",
   "metadata": {},
   "outputs": [],
   "source": [
    "model.compile(optimizer='adam',loss='categorical_crossentropy',metrics=['accuracy'])"
   ]
  },
  {
   "cell_type": "code",
   "execution_count": 18,
   "id": "7647518a",
   "metadata": {},
   "outputs": [
    {
     "name": "stdout",
     "output_type": "stream",
     "text": [
      "Epoch 1/10\n",
      "673/673 [==============================] - 154s 229ms/step - loss: 0.4480 - accuracy: 0.8421 - val_loss: 1.9064 - val_accuracy: 0.5305\n",
      "Epoch 2/10\n",
      "673/673 [==============================] - 152s 226ms/step - loss: 0.4201 - accuracy: 0.8541 - val_loss: 1.9526 - val_accuracy: 0.5320\n",
      "Epoch 3/10\n",
      "673/673 [==============================] - 149s 222ms/step - loss: 0.3760 - accuracy: 0.8691 - val_loss: 2.1812 - val_accuracy: 0.5293\n",
      "Epoch 4/10\n",
      "673/673 [==============================] - 151s 224ms/step - loss: 0.3634 - accuracy: 0.8730 - val_loss: 2.2807 - val_accuracy: 0.5187\n",
      "Epoch 5/10\n",
      "673/673 [==============================] - 157s 233ms/step - loss: 0.3473 - accuracy: 0.8810 - val_loss: 2.3039 - val_accuracy: 0.5340\n",
      "Epoch 6/10\n",
      "673/673 [==============================] - 150s 223ms/step - loss: 0.3097 - accuracy: 0.8961 - val_loss: 2.3395 - val_accuracy: 0.5333\n",
      "Epoch 7/10\n",
      "673/673 [==============================] - 151s 224ms/step - loss: 0.3019 - accuracy: 0.8972 - val_loss: 2.4888 - val_accuracy: 0.5276\n",
      "Epoch 8/10\n",
      "673/673 [==============================] - 155s 230ms/step - loss: 0.2882 - accuracy: 0.9019 - val_loss: 2.4505 - val_accuracy: 0.5265\n",
      "Epoch 9/10\n",
      "673/673 [==============================] - 152s 226ms/step - loss: 0.2666 - accuracy: 0.9121 - val_loss: 2.3830 - val_accuracy: 0.5121\n",
      "Epoch 10/10\n",
      "673/673 [==============================] - 152s 226ms/step - loss: 0.2451 - accuracy: 0.9175 - val_loss: 2.6198 - val_accuracy: 0.5139\n"
     ]
    },
    {
     "data": {
      "text/plain": [
       "<keras.callbacks.History at 0x1e24cd75be0>"
      ]
     },
     "execution_count": 18,
     "metadata": {},
     "output_type": "execute_result"
    }
   ],
   "source": [
    "model.fit(X_train,y_train,validation_split=0.25,epochs=10)"
   ]
  },
  {
   "cell_type": "code",
   "execution_count": 19,
   "id": "f7313151",
   "metadata": {},
   "outputs": [
    {
     "name": "stdout",
     "output_type": "stream",
     "text": [
      "Model: \"sequential_1\"\n",
      "_________________________________________________________________\n",
      " Layer (type)                Output Shape              Param #   \n",
      "=================================================================\n",
      " conv2d_4 (Conv2D)           (None, 48, 48, 32)        320       \n",
      "                                                                 \n",
      " max_pooling2d_4 (MaxPooling  (None, 48, 48, 32)       0         \n",
      " 2D)                                                             \n",
      "                                                                 \n",
      " conv2d_5 (Conv2D)           (None, 23, 23, 64)        18496     \n",
      "                                                                 \n",
      " max_pooling2d_5 (MaxPooling  (None, 11, 11, 64)       0         \n",
      " 2D)                                                             \n",
      "                                                                 \n",
      " conv2d_6 (Conv2D)           (None, 11, 11, 128)       73856     \n",
      "                                                                 \n",
      " max_pooling2d_6 (MaxPooling  (None, 6, 6, 128)        0         \n",
      " 2D)                                                             \n",
      "                                                                 \n",
      " conv2d_7 (Conv2D)           (None, 4, 4, 128)         147584    \n",
      "                                                                 \n",
      " max_pooling2d_7 (MaxPooling  (None, 2, 2, 128)        0         \n",
      " 2D)                                                             \n",
      "                                                                 \n",
      " flatten_1 (Flatten)         (None, 512)               0         \n",
      "                                                                 \n",
      " dense_4 (Dense)             (None, 250)               128250    \n",
      "                                                                 \n",
      " dense_5 (Dense)             (None, 300)               75300     \n",
      "                                                                 \n",
      " dense_6 (Dense)             (None, 350)               105350    \n",
      "                                                                 \n",
      " dense_7 (Dense)             (None, 350)               122850    \n",
      "                                                                 \n",
      " dense_8 (Dense)             (None, 7)                 2457      \n",
      "                                                                 \n",
      "=================================================================\n",
      "Total params: 674,463\n",
      "Trainable params: 674,463\n",
      "Non-trainable params: 0\n",
      "_________________________________________________________________\n"
     ]
    }
   ],
   "source": [
    "model.summary()"
   ]
  },
  {
   "cell_type": "code",
   "execution_count": 20,
   "id": "a8001943",
   "metadata": {},
   "outputs": [],
   "source": [
    "y_predict = model.predict(X_test)"
   ]
  },
  {
   "cell_type": "code",
   "execution_count": 21,
   "id": "ab6e85e8",
   "metadata": {},
   "outputs": [],
   "source": [
    "y_predict = np.array([np.argmax(i) for i in y_predict])"
   ]
  },
  {
   "cell_type": "code",
   "execution_count": 22,
   "id": "c9016b0f",
   "metadata": {},
   "outputs": [],
   "source": [
    "y_actual = np.array([np.argmax(i) for i in y_test.values])"
   ]
  },
  {
   "cell_type": "code",
   "execution_count": 23,
   "id": "74a860b2",
   "metadata": {},
   "outputs": [
    {
     "name": "stdout",
     "output_type": "stream",
     "text": [
      "Accuracy Score 0.5121203677904709\n",
      "Confusion matrix [[217   2  69  43  68  13  55]\n",
      " [ 14  16  13   5   4   1   3]\n",
      " [ 69   2 201  34  79  38  73]\n",
      " [ 70   2  32 628  62  24  77]\n",
      " [106   0 114  69 230  13 121]\n",
      " [ 25   0  42  20  12 277  39]\n",
      " [101   0  71  56 100  10 269]]\n"
     ]
    }
   ],
   "source": [
    "print('Accuracy Score',accuracy_score(y_actual,y_predict))\n",
    "print('Confusion matrix',confusion_matrix(y_actual,y_predict))"
   ]
  },
  {
   "cell_type": "code",
   "execution_count": 40,
   "id": "842d7fac",
   "metadata": {},
   "outputs": [],
   "source": [
    "model.save('model.h5')"
   ]
  },
  {
   "cell_type": "code",
   "execution_count": null,
   "id": "3f8aff37",
   "metadata": {},
   "outputs": [],
   "source": []
  }
 ],
 "metadata": {
  "kernelspec": {
   "display_name": "Python 3",
   "language": "python",
   "name": "python3"
  },
  "language_info": {
   "codemirror_mode": {
    "name": "ipython",
    "version": 3
   },
   "file_extension": ".py",
   "mimetype": "text/x-python",
   "name": "python",
   "nbconvert_exporter": "python",
   "pygments_lexer": "ipython3",
   "version": "3.8.8"
  }
 },
 "nbformat": 4,
 "nbformat_minor": 5
}
