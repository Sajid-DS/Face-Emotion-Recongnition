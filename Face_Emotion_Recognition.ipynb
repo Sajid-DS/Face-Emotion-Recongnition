{
 "cells": [
  {
   "cell_type": "code",
   "execution_count": 9,
   "id": "9710268e",
   "metadata": {},
   "outputs": [],
   "source": [
    "import pandas as pd\n",
    "import numpy as np\n",
    "import matplotlib.pyplot as plt\n",
    "import cv2 as cv\n",
    "import glob\n",
    "from sklearn.model_selection import train_test_split\n",
    "from keras.models import Sequential\n",
    "from keras.layers import Dense,Conv2D,MaxPool2D,Activation,Flatten\n",
    "import os\n"
   ]
  },
  {
   "cell_type": "code",
   "execution_count": 22,
   "id": "a803615f",
   "metadata": {},
   "outputs": [],
   "source": [
    "path = glob.glob('H:/Image_Dataset/Face_Emotion_Recognition/train/disgust/*.jpg')"
   ]
  },
  {
   "cell_type": "code",
   "execution_count": 11,
   "id": "6ae63fec",
   "metadata": {},
   "outputs": [],
   "source": [
    "angry = []\n",
    "for i in path:\n",
    "    n = cv.imread(i)\n",
    "    nc = cv.cvtColor(n,cv.COLOR_BGR2GRAY)\n",
    "    nc = cv.resize(nc,(48,48))\n",
    "    angry.append(n)"
   ]
  },
  {
   "cell_type": "code",
   "execution_count": 13,
   "id": "86a31217",
   "metadata": {},
   "outputs": [],
   "source": [
    "sad = []\n",
    "for i in path:\n",
    "    n = cv.imread(i)\n",
    "    nc = cv.cvtColor(n,cv.COLOR_BGR2GRAY)\n",
    "    nc = cv.resize(nc,(48,48))\n",
    "    sad.append(n)"
   ]
  },
  {
   "cell_type": "code",
   "execution_count": 15,
   "id": "bebccd27",
   "metadata": {},
   "outputs": [],
   "source": [
    "surprise = []\n",
    "for i in path:\n",
    "    n = cv.imread(i)\n",
    "    nc = cv.cvtColor(n,cv.COLOR_BGR2GRAY)\n",
    "    nc = cv.resize(nc,(48,48))\n",
    "    surprise.append(n)"
   ]
  },
  {
   "cell_type": "code",
   "execution_count": 17,
   "id": "300c37f7",
   "metadata": {},
   "outputs": [],
   "source": [
    "fear = []\n",
    "for i in path:\n",
    "    n = cv.imread(i)\n",
    "    nc = cv.cvtColor(n,cv.COLOR_BGR2GRAY)\n",
    "    nc = cv.resize(nc,(48,48))\n",
    "    fear.append(n)"
   ]
  },
  {
   "cell_type": "code",
   "execution_count": 19,
   "id": "27371a2d",
   "metadata": {},
   "outputs": [],
   "source": [
    "happy = []\n",
    "for i in path:\n",
    "    n = cv.imread(i)\n",
    "    nc = cv.cvtColor(n,cv.COLOR_BGR2GRAY)\n",
    "    nc = cv.resize(nc,(48,48))\n",
    "    happy.append(n)"
   ]
  },
  {
   "cell_type": "code",
   "execution_count": 21,
   "id": "84cb48cf",
   "metadata": {},
   "outputs": [],
   "source": [
    "neutral = []\n",
    "for i in path:\n",
    "    n = cv.imread(i)\n",
    "    nc = cv.cvtColor(n,cv.COLOR_BGR2GRAY)\n",
    "    nc = cv.resize(nc,(48,48))\n",
    "    neutral.append(n)"
   ]
  },
  {
   "cell_type": "code",
   "execution_count": 23,
   "id": "378a320b",
   "metadata": {},
   "outputs": [],
   "source": [
    "disgust = []\n",
    "for i in path:\n",
    "    n = cv.imread(i)\n",
    "    nc = cv.cvtColor(n,cv.COLOR_BGR2GRAY)\n",
    "    nc = cv.resize(nc,(48,48))\n",
    "    disgust.append(nc)"
   ]
  },
  {
   "cell_type": "code",
   "execution_count": 24,
   "id": "f96c2075",
   "metadata": {},
   "outputs": [],
   "source": [
    "df = pd.DataFrame({'image':angry})\n",
    "df['Labels'] = ['angry' for i in angry]"
   ]
  },
  {
   "cell_type": "code",
   "execution_count": 25,
   "id": "5ae2baf8",
   "metadata": {},
   "outputs": [],
   "source": [
    "df1 = pd.DataFrame({'image':sad})\n",
    "df1['Labels'] = ['sad' for i in sad]"
   ]
  },
  {
   "cell_type": "code",
   "execution_count": 26,
   "id": "9d78a02f",
   "metadata": {},
   "outputs": [],
   "source": [
    "df2 = pd.DataFrame({'image':surprise})\n",
    "df2['Labels'] = ['surprise' for i in surprise]"
   ]
  },
  {
   "cell_type": "code",
   "execution_count": 27,
   "id": "5f69ada5",
   "metadata": {},
   "outputs": [],
   "source": [
    "df3 = pd.DataFrame({'image':happy})\n",
    "df3['Labels'] = ['happy' for i in happy]"
   ]
  },
  {
   "cell_type": "code",
   "execution_count": 28,
   "id": "5e38f35d",
   "metadata": {},
   "outputs": [],
   "source": [
    "df4 = pd.DataFrame({'image':fear})\n",
    "df4['Labels'] = ['fear' for i in fear]"
   ]
  },
  {
   "cell_type": "code",
   "execution_count": 29,
   "id": "64329abf",
   "metadata": {},
   "outputs": [],
   "source": [
    "df5 = pd.DataFrame({'image':neutral})\n",
    "df5['Labels'] = ['neutral' for i in neutral]"
   ]
  },
  {
   "cell_type": "code",
   "execution_count": 30,
   "id": "b3220471",
   "metadata": {},
   "outputs": [],
   "source": [
    "df6 = pd.DataFrame({'image':disgust})\n",
    "df6['Labels'] = ['disgust' for i in disgust]"
   ]
  },
  {
   "cell_type": "code",
   "execution_count": 31,
   "id": "44dd6d40",
   "metadata": {},
   "outputs": [],
   "source": [
    "frame = [df,df1,df2,df3,df4,df5,df6]"
   ]
  },
  {
   "cell_type": "code",
   "execution_count": 32,
   "id": "47147bed",
   "metadata": {},
   "outputs": [],
   "source": [
    "train = pd.concat(frame)"
   ]
  },
  {
   "cell_type": "code",
   "execution_count": 43,
   "id": "afa36127",
   "metadata": {},
   "outputs": [],
   "source": [
    "X = train['image']"
   ]
  },
  {
   "cell_type": "code",
   "execution_count": 44,
   "id": "34d2cff2",
   "metadata": {},
   "outputs": [],
   "source": [
    "y = pd.get_dummies(train['Labels'])"
   ]
  },
  {
   "cell_type": "code",
   "execution_count": 36,
   "id": "58f590a3",
   "metadata": {},
   "outputs": [
    {
     "data": {
      "text/plain": [
       "((28709,), (28709, 7))"
      ]
     },
     "execution_count": 36,
     "metadata": {},
     "output_type": "execute_result"
    }
   ],
   "source": [
    "X.shape,y.shape"
   ]
  },
  {
   "cell_type": "code",
   "execution_count": 49,
   "id": "609a707b",
   "metadata": {},
   "outputs": [
    {
     "data": {
      "text/plain": [
       "pandas.core.series.Series"
      ]
     },
     "execution_count": 49,
     "metadata": {},
     "output_type": "execute_result"
    }
   ],
   "source": [
    "type(X)"
   ]
  },
  {
   "cell_type": "code",
   "execution_count": 39,
   "id": "544b7fa4",
   "metadata": {},
   "outputs": [],
   "source": [
    "X_train,X_test,y_train,y_test = train_test_split(X,y,test_size=0.2,stratify=y)"
   ]
  },
  {
   "cell_type": "code",
   "execution_count": 40,
   "id": "6d095f20",
   "metadata": {},
   "outputs": [],
   "source": [
    "model = Sequential()\n",
    "\n",
    "#model.add(ZeroPadding2D((1,1),input_shape=(48,48,3)))\n",
    "model.add(Conv2D(32,3,padding=\"same\",))\n",
    "model.add(Activation('relu'))\n",
    "\n",
    "\n",
    "model.add(MaxPool2D(32,2))\n",
    "\n",
    "\n",
    "model.add(Conv2D(64,3,strides=(2,2),padding=\"valid\"))\n",
    "model.add(Activation('relu'))\n",
    "\n",
    "\n",
    "model.add(MaxPool2D(64,2))\n",
    "\n",
    "model.add(Conv2D(128,3))\n",
    "model.add(Activation('relu'))\n",
    "\n",
    "model.add(MaxPool2D(128,2))\n",
    "\n",
    "model.add(Conv2D(256,3))\n",
    "model.add(Activation('relu'))\n",
    "\n",
    "model.add(MaxPool2D(128,2))\n",
    "\n",
    "model.add(Flatten())\n",
    "\n",
    "model.add(Dense(100,activation='relu'))\n",
    "\n",
    "model.add(Dense(200,activation='relu'))\n",
    "\n",
    "model.add(Dense(200,activation='relu'))\n",
    "\n",
    "model.add(Dense(7,activation='softmax'))"
   ]
  },
  {
   "cell_type": "code",
   "execution_count": 41,
   "id": "417ee4d9",
   "metadata": {},
   "outputs": [],
   "source": [
    "model.compile(optimizer='adam',loss='categorical_crossentropy',metrics=['accuracy'])"
   ]
  },
  {
   "cell_type": "code",
   "execution_count": 42,
   "id": "ed4e3f4d",
   "metadata": {},
   "outputs": [
    {
     "ename": "ValueError",
     "evalue": "Failed to convert a NumPy array to a Tensor (Unsupported object type numpy.ndarray).",
     "output_type": "error",
     "traceback": [
      "\u001b[1;31m---------------------------------------------------------------------------\u001b[0m",
      "\u001b[1;31mValueError\u001b[0m                                Traceback (most recent call last)",
      "\u001b[1;32m<ipython-input-42-58ff1eb27bd8>\u001b[0m in \u001b[0;36m<module>\u001b[1;34m\u001b[0m\n\u001b[1;32m----> 1\u001b[1;33m \u001b[0mmodel\u001b[0m\u001b[1;33m.\u001b[0m\u001b[0mfit\u001b[0m\u001b[1;33m(\u001b[0m\u001b[0mX_train\u001b[0m\u001b[1;33m,\u001b[0m\u001b[0my_train\u001b[0m\u001b[1;33m,\u001b[0m\u001b[0mvalidation_split\u001b[0m\u001b[1;33m=\u001b[0m\u001b[1;36m0.2\u001b[0m\u001b[1;33m,\u001b[0m\u001b[0mepochs\u001b[0m\u001b[1;33m=\u001b[0m\u001b[1;36m10\u001b[0m\u001b[1;33m)\u001b[0m\u001b[1;33m\u001b[0m\u001b[1;33m\u001b[0m\u001b[0m\n\u001b[0m",
      "\u001b[1;32m~\\anaconda3\\lib\\site-packages\\keras\\utils\\traceback_utils.py\u001b[0m in \u001b[0;36merror_handler\u001b[1;34m(*args, **kwargs)\u001b[0m\n\u001b[0;32m     65\u001b[0m     \u001b[1;32mexcept\u001b[0m \u001b[0mException\u001b[0m \u001b[1;32mas\u001b[0m \u001b[0me\u001b[0m\u001b[1;33m:\u001b[0m  \u001b[1;31m# pylint: disable=broad-except\u001b[0m\u001b[1;33m\u001b[0m\u001b[1;33m\u001b[0m\u001b[0m\n\u001b[0;32m     66\u001b[0m       \u001b[0mfiltered_tb\u001b[0m \u001b[1;33m=\u001b[0m \u001b[0m_process_traceback_frames\u001b[0m\u001b[1;33m(\u001b[0m\u001b[0me\u001b[0m\u001b[1;33m.\u001b[0m\u001b[0m__traceback__\u001b[0m\u001b[1;33m)\u001b[0m\u001b[1;33m\u001b[0m\u001b[1;33m\u001b[0m\u001b[0m\n\u001b[1;32m---> 67\u001b[1;33m       \u001b[1;32mraise\u001b[0m \u001b[0me\u001b[0m\u001b[1;33m.\u001b[0m\u001b[0mwith_traceback\u001b[0m\u001b[1;33m(\u001b[0m\u001b[0mfiltered_tb\u001b[0m\u001b[1;33m)\u001b[0m \u001b[1;32mfrom\u001b[0m \u001b[1;32mNone\u001b[0m\u001b[1;33m\u001b[0m\u001b[1;33m\u001b[0m\u001b[0m\n\u001b[0m\u001b[0;32m     68\u001b[0m     \u001b[1;32mfinally\u001b[0m\u001b[1;33m:\u001b[0m\u001b[1;33m\u001b[0m\u001b[1;33m\u001b[0m\u001b[0m\n\u001b[0;32m     69\u001b[0m       \u001b[1;32mdel\u001b[0m \u001b[0mfiltered_tb\u001b[0m\u001b[1;33m\u001b[0m\u001b[1;33m\u001b[0m\u001b[0m\n",
      "\u001b[1;32m~\\anaconda3\\lib\\site-packages\\tensorflow\\python\\framework\\constant_op.py\u001b[0m in \u001b[0;36mconvert_to_eager_tensor\u001b[1;34m(value, ctx, dtype)\u001b[0m\n\u001b[0;32m    104\u001b[0m       \u001b[0mdtype\u001b[0m \u001b[1;33m=\u001b[0m \u001b[0mdtypes\u001b[0m\u001b[1;33m.\u001b[0m\u001b[0mas_dtype\u001b[0m\u001b[1;33m(\u001b[0m\u001b[0mdtype\u001b[0m\u001b[1;33m)\u001b[0m\u001b[1;33m.\u001b[0m\u001b[0mas_datatype_enum\u001b[0m\u001b[1;33m\u001b[0m\u001b[1;33m\u001b[0m\u001b[0m\n\u001b[0;32m    105\u001b[0m   \u001b[0mctx\u001b[0m\u001b[1;33m.\u001b[0m\u001b[0mensure_initialized\u001b[0m\u001b[1;33m(\u001b[0m\u001b[1;33m)\u001b[0m\u001b[1;33m\u001b[0m\u001b[1;33m\u001b[0m\u001b[0m\n\u001b[1;32m--> 106\u001b[1;33m   \u001b[1;32mreturn\u001b[0m \u001b[0mops\u001b[0m\u001b[1;33m.\u001b[0m\u001b[0mEagerTensor\u001b[0m\u001b[1;33m(\u001b[0m\u001b[0mvalue\u001b[0m\u001b[1;33m,\u001b[0m \u001b[0mctx\u001b[0m\u001b[1;33m.\u001b[0m\u001b[0mdevice_name\u001b[0m\u001b[1;33m,\u001b[0m \u001b[0mdtype\u001b[0m\u001b[1;33m)\u001b[0m\u001b[1;33m\u001b[0m\u001b[1;33m\u001b[0m\u001b[0m\n\u001b[0m\u001b[0;32m    107\u001b[0m \u001b[1;33m\u001b[0m\u001b[0m\n\u001b[0;32m    108\u001b[0m \u001b[1;33m\u001b[0m\u001b[0m\n",
      "\u001b[1;31mValueError\u001b[0m: Failed to convert a NumPy array to a Tensor (Unsupported object type numpy.ndarray)."
     ]
    }
   ],
   "source": [
    "model.fit(X_train,y_train,validation_split=0.2,epochs=10)"
   ]
  },
  {
   "cell_type": "code",
   "execution_count": null,
   "id": "9695166c",
   "metadata": {},
   "outputs": [],
   "source": []
  }
 ],
 "metadata": {
  "kernelspec": {
   "display_name": "Python 3",
   "language": "python",
   "name": "python3"
  },
  "language_info": {
   "codemirror_mode": {
    "name": "ipython",
    "version": 3
   },
   "file_extension": ".py",
   "mimetype": "text/x-python",
   "name": "python",
   "nbconvert_exporter": "python",
   "pygments_lexer": "ipython3",
   "version": "3.8.8"
  }
 },
 "nbformat": 4,
 "nbformat_minor": 5
}
